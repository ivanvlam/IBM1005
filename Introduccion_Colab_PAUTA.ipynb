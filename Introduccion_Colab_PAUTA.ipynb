{
  "nbformat": 4,
  "nbformat_minor": 0,
  "metadata": {
    "colab": {
      "name": "Introduccion_Colab_PAUTA.ipynb",
      "provenance": [],
      "collapsed_sections": [],
      "toc_visible": true
    },
    "kernelspec": {
      "name": "python3",
      "display_name": "Python 3"
    }
  },
  "cells": [
    {
      "cell_type": "markdown",
      "metadata": {
        "id": "mBPtTUnW1ICU"
      },
      "source": [
        "<p><img alt=\"Colaboratory logo\" height=\"45px\" src=\"/img/colab_favicon.ico\" align=\"left\" hspace=\"10px\" vspace=\"0px\"></p>\n",
        "\n",
        "<h1>Intro a Colab</h1>\n",
        "\n",
        "Colaboratory, o \"Colab\", permite escribir y ejecutar código en tu navegador con\n",
        "- Cero configuración\n",
        "- Acceso gratis (pero limitado) a GPUs (no necesarias en este curso)\n",
        "- Fácil de compartir"
      ]
    },
    {
      "cell_type": "markdown",
      "metadata": {
        "id": "Elg7WNbtFtjy"
      },
      "source": [
        "#Celdas\n"
      ]
    },
    {
      "cell_type": "code",
      "metadata": {
        "id": "7zmVBygQS6Sa",
        "colab": {
          "base_uri": "https://localhost:8080/",
          "height": 34
        },
        "outputId": "59923ec1-cb09-4882-a9a3-88c86da5ea34"
      },
      "source": [
        "print(\"El comando print sirve para mostrar texto\")"
      ],
      "execution_count": null,
      "outputs": [
        {
          "output_type": "stream",
          "text": [
            "El comando print sirve para mostrar texto\n"
          ],
          "name": "stdout"
        }
      ]
    },
    {
      "cell_type": "markdown",
      "metadata": {
        "id": "JshiJfHNFx2E"
      },
      "source": [
        "#Secciones, texto y ecuaciones"
      ]
    },
    {
      "cell_type": "markdown",
      "metadata": {
        "id": "Xld_y4l6InRw"
      },
      "source": [
        "Para generar **secciones** se utiliza el caractér \"#\". Agregar más \"#\" permite crear subsecciones dentro de una sección. Por ejemplo:\n",
        "\n",
        "Con secciones nos referimos a indentar los contenidos"
      ]
    },
    {
      "cell_type": "markdown",
      "metadata": {
        "id": "aXXU5EfrJC1V"
      },
      "source": [
        "## Parte 1"
      ]
    },
    {
      "cell_type": "markdown",
      "metadata": {
        "id": "TkQQZSYrJRZt"
      },
      "source": [
        "###Actividad 1"
      ]
    },
    {
      "cell_type": "markdown",
      "metadata": {
        "id": "xUHZUXr7JVVk"
      },
      "source": [
        "##### a)"
      ]
    },
    {
      "cell_type": "markdown",
      "metadata": {
        "id": "Lbca8-GQJW2y"
      },
      "source": [
        "#### b)"
      ]
    },
    {
      "cell_type": "markdown",
      "metadata": {
        "id": "ObmM745aJZNj"
      },
      "source": [
        "#### c)"
      ]
    },
    {
      "cell_type": "markdown",
      "metadata": {
        "id": "Zt1IcDBTJTcb"
      },
      "source": [
        "###Actividad 2"
      ]
    },
    {
      "cell_type": "markdown",
      "metadata": {
        "id": "X8TnZDEpJb1Q"
      },
      "source": [
        "#### a)"
      ]
    },
    {
      "cell_type": "markdown",
      "metadata": {
        "id": "kjb64tlmJdXV"
      },
      "source": [
        "####b)"
      ]
    },
    {
      "cell_type": "markdown",
      "metadata": {
        "id": "v_pYC_CPrQjf"
      },
      "source": [
        "Colab permite incluir celdas de texto normal\n",
        "\n",
        "\n",
        "```\n",
        "# texto en formato de código\n",
        "```\n",
        "\n",
        "$a = b+c$\n",
        "\n",
        "\n",
        "\n",
        "\n",
        "\n",
        "\n",
        "\n"
      ]
    },
    {
      "cell_type": "markdown",
      "metadata": {
        "id": "LVBvxtX5rFUA"
      },
      "source": [
        "Algunos ejemplos de cómo escribir ecuaciones\n",
        "   - $3x_1 + 6x_2 + x_3 =< 28$\n",
        "   - $7x_1 + 3x_2 + 2x_3 =< 37$\n",
        "   - $4x_1 + 5x_2 + 2x_3 =< 19$\n",
        "   - $x_1,x_2,x_3 >=0 $\n",
        "\n",
        "Otras ecuaciones más avanzadas\n",
        "- $u_i(t) = x_i(t) + \\beta(\\hat{x}(t) − x_i(t)) + \\beta \\sum_{k = 1}^{n_v}(x_{i1,k}(t) − x_{i2,k}(t))$\n",
        "$f(x_1, x_2) = 20 + e - 20exp(-0.2 \\sqrt {\\frac {1}{n} (x_1^2 + x_2^2)}) - exp (\\frac {1}{n}(cos(2\\pi x_1) + cos(2\\pi x_2))$\n",
        "\n",
        "$x ∈ [-5, 5]$\n",
        ">$A_{m,n} =\n",
        "   \\begin{pmatrix}\n",
        "   a_{1,1} > a_{1,2} > \\cdots > a_{1,n} \\\\\n",
        "   a_{2,1} > a_{2,2} > \\cdots > a_{2,n} \\\\\n",
        "   \\vdots > \\vdots > \\ddots > \\vdots \\\\\n",
        "   a_{m,1} > a_{m,2} > \\cdots > a_{m,n}\n",
        "   \\end{pmatrix}$"
      ]
    },
    {
      "cell_type": "markdown",
      "metadata": {
        "id": "METNodTgSHBx"
      },
      "source": [
        "# Introducción a programación"
      ]
    },
    {
      "cell_type": "markdown",
      "metadata": {
        "id": "DJL-SVOejhhW"
      },
      "source": [
        "**Importante:** Si bien en esta ayudantía repasaremos elementos de programación, no es necesario que los manejen a la perfección. El curso no esta diseñado para programar desde cero, sino que para que puedan **entender** y **adaptar** código a los problemas de las tareas."
      ]
    },
    {
      "cell_type": "markdown",
      "metadata": {
        "id": "A4EPZ75CUNyC"
      },
      "source": [
        "## Variables"
      ]
    },
    {
      "cell_type": "markdown",
      "metadata": {
        "id": "mGMm808CWtCZ"
      },
      "source": [
        "En Python existen 5 tipos principales de variables\n",
        "\n",
        "*   **Numéricas**\n",
        "    *   **Integer:** numero entero\n",
        "    *   **Float:** numero decimal\n",
        "*   **Cadenas o strings:** se refieren a texto\n",
        "*  **Listas:** secuencia ordenada de elementos dinámicos\n",
        "*   **Tuplas:** secuencia ordenada de elementos estáticos\n",
        "*   **Diccionario:** estructuras de datos que permite guardar un conjunto no ordenado de pares clave-valor\n",
        "\n",
        "Para más detalles sobre tipos de variables revisar [acá](https://www.codigofuente.org/variables-en-python/)\n",
        "\n"
      ]
    },
    {
      "cell_type": "code",
      "metadata": {
        "id": "ikX20NM9VkUt",
        "colab": {
          "base_uri": "https://localhost:8080/",
          "height": 272
        },
        "outputId": "77613d04-cd8c-420d-d078-ae3b371d44c3"
      },
      "source": [
        "a = 5 # Definimos \"a\" como \"5\", una variable tipo int (entero)\n",
        "b = 5.5 # Definimos \"b\" como \"5.5\", una variable tipo float (decimal)\n",
        "#los decimales se definen con \".\" ya que es en inglés\n",
        "\n",
        "c = \"Juan\" # Definimos \"c\" como \"Juan\", una variable tipo string (texto)\n",
        "\n",
        "d = [1,2,3,4] # Lista (notar los parentesis cuadrados)\n",
        "e = (1,2,3,4) # Tupla (notar los parentesis redondo)\n",
        "#tanto listas como tuplas se separan por \",\"\n",
        "\n",
        "f = {'Nombre': 'Juan', 'Apellido': 'Perez', 'Edad':30} # Diccionario\n",
        "\n",
        "print(\"{}\".format(a))\n",
        "print(\"{}, {}, {} \".format(b,c,d))\n",
        "print(a)\n",
        "print(c)\n",
        "#El compando print(\"a\") funciona cuando \"a\" es una variable del tipo string,\n",
        "#por lo que hay que transformar la variable a string para imprimirla\n",
        "#esto se hace con la función .format(a)\n",
        "\n",
        "print(\"Variable entera: {}\".format(a))\n",
        "#se pueden unir 2 strings para imprimir uno solo. Por ejemplo: una descripción\n",
        "\n",
        "print(\"Variable punto flotante: {}\".format(b))\n",
        "print(\"Variable string: {}\".format(c))\n",
        "\n",
        "print(\"Lista: {}\".format(d))\n",
        "print(\"Tupla: {}\".format(e))\n",
        "print(\"Elemento lista/tupla: {}\".format(d[2]))\n",
        "print(\"Elementos lista/tupla: {}\".format(e[:3]))\n",
        "#Para obtener un elemento de una lista o tupla se pone Lista[x], donde \"lista\" es\n",
        "#el nombre que ya se le ha asignado y \"x\" es el índice del elemento (0-infinito)\n",
        "\n",
        "print(\"Diccionario: {}\".format(f))\n",
        "print(\"Llave diccionario: {}\".format(f['Edad']))\n",
        "print(\"Llaves: {}\".format(f.keys()))\n",
        "print(\"Valores: {}\".format(f.values()))\n",
        "\n"
      ],
      "execution_count": null,
      "outputs": [
        {
          "output_type": "stream",
          "text": [
            "5\n",
            "5.5, Juan, [1, 2, 3, 4] \n",
            "5\n",
            "Juan\n",
            "Variable entera: 5\n",
            "Variable punto flotante: 5.5\n",
            "Variable string: Juan\n",
            "Lista: [1, 2, 3, 4]\n",
            "Tupla: (1, 2, 3, 4)\n",
            "Elemento lista/tupla: 3\n",
            "Elementos lista/tupla: (1, 2, 3)\n",
            "Diccionario: {'Nombre': 'Juan', 'Apellido': 'Perez', 'Edad': 30}\n",
            "Llave diccionario: 30\n",
            "Llaves: dict_keys(['Nombre', 'Apellido', 'Edad'])\n",
            "Valores: dict_values(['Juan', 'Perez', 30])\n"
          ],
          "name": "stdout"
        }
      ]
    },
    {
      "cell_type": "markdown",
      "metadata": {
        "id": "v1buakZpFWjg"
      },
      "source": [
        "## Operaciones Básicas"
      ]
    },
    {
      "cell_type": "markdown",
      "metadata": {
        "id": "hAurpG5mGWzu"
      },
      "source": [
        "Python permite realizar distintas operaciones entre variables. Mayor detalle de ellas puedes revisarlas [acá](https://www.mclibre.org/consultar/python/lecciones/python-operaciones-matematicas.html)"
      ]
    },
    {
      "cell_type": "code",
      "metadata": {
        "id": "R2121nrWGhRY",
        "colab": {
          "base_uri": "https://localhost:8080/",
          "height": 123
        },
        "outputId": "7b4665c7-43c1-4813-ee38-c72a8b55c963"
      },
      "source": [
        "resultado1 = 2+2-5  # Suma, resta\n",
        "print(\"Suma y resta: {}\".format(resultado1)) \n",
        "\n",
        "resultado2 = (8*10)/5 # Multiplicación y división\n",
        "print(\"Multiplicación y división: {}\".format(resultado2))\n",
        "\n",
        "print(\"Potencia: {}\".format(2**3))   # Potencia\n",
        "\n",
        "print(\"División entera: {}\".format(10//3)) # División entera\n",
        "\n",
        "print(\"Resto de una división: {}\".format(8%4)) # Resto de una división\n",
        "print(\"Resto de una división: {}\".format(10%3))\n"
      ],
      "execution_count": null,
      "outputs": [
        {
          "output_type": "stream",
          "text": [
            "Suma y resta: -1\n",
            "Multiplicación y división: 16.0\n",
            "Potencia: 8\n",
            "División entera: 3\n",
            "Resto de una división: 0\n",
            "Resto de una división: 1\n"
          ],
          "name": "stdout"
        }
      ]
    },
    {
      "cell_type": "markdown",
      "metadata": {
        "id": "JHMNjJPGSYsi"
      },
      "source": [
        "## Funciones, Condiciones e iteradores"
      ]
    },
    {
      "cell_type": "markdown",
      "metadata": {
        "id": "O2ah3P6Gv-YC"
      },
      "source": [
        "**Función**: Realiza una serie de acciones sobre las variables ingresadas y puede entregar resultados\n",
        "\n",
        "**Condicionante**: Analiza la veracidad de una afirmación antes de realizar una acción\n",
        "\n",
        "**Iterador**: Permite realizar una acción muchas veces sin necesidad de escribirlas de forma individual, sus parámetros pueden cambiar."
      ]
    },
    {
      "cell_type": "code",
      "metadata": {
        "id": "pQe6ZKGued1D",
        "colab": {
          "base_uri": "https://localhost:8080/",
          "height": 221
        },
        "outputId": "a59831cb-7675-40f6-fd40-6ce2e029f6aa"
      },
      "source": [
        "def HelloWorldXY(x, y):    #primer paso, definir el nombre de la función \"HelloWorld\" y las variables a procesar \"x\" e \"y\"\n",
        "#Pueden ser más variables si se necesita\n",
        "  \n",
        "  #La estructura de un condicionante es la siguiente:\n",
        "  # if (\"afirmación 1 de v o f\"):      las afirmaciones pueden ser lógicas, como 1==1; 2<5; a<5\n",
        "      #acción a realizar si la afirmación es verdadera\n",
        "  # elif (\"afirmación 2 de v o f\"):    \n",
        "      #acción a realizar solo si la afirmación 1 es \"f\" y la afirmación 2 es \"v\"\n",
        "  # else:\n",
        "      #acción a realizar en caso de que todas las afirmaciones sean falsas \n",
        "  \n",
        "  #ejemplo dentro de la misma función HelloWorld(x,y)\n",
        "  if (x < 10):  \n",
        "    print(\"Hello World, x was < 10\") # Si x es menor a 10 se imprime esta linea\n",
        "  elif (x < 20):\n",
        "    print(\"Hello World, x was >= 10 but < 20\")\n",
        "  else:\n",
        "    print(\"Hello World, x was >= 20\")\n",
        "\n",
        "  return x + y\n",
        "\n",
        "# Con la palabra for declaramos un varible (en este caso i) que iterará dentro de una lista de valores\n",
        "# la lista de valores en este caso es range(8,25,5), la cual es una lista de números que inicia en 8 hasta 25\n",
        "# con pasos de 5 valores\n",
        "for i in range(8, 25, 5):  # i=8, 13, 18, 23 (start, stop, step)\n",
        "  print(\"--- Now running with i: {}\".format(i))\n",
        "  r = HelloWorldXY(i,i)\n",
        "  print(\"Result from HelloWorld: {}\".format(r))"
      ],
      "execution_count": null,
      "outputs": [
        {
          "output_type": "stream",
          "text": [
            "--- Now running with i: 8\n",
            "Hello World, x was < 10\n",
            "Result from HelloWorld: 16\n",
            "--- Now running with i: 13\n",
            "Hello World, x was >= 10 but < 20\n",
            "Result from HelloWorld: 26\n",
            "--- Now running with i: 18\n",
            "Hello World, x was >= 10 but < 20\n",
            "Result from HelloWorld: 36\n",
            "--- Now running with i: 23\n",
            "Hello World, x was >= 20\n",
            "Result from HelloWorld: 46\n"
          ],
          "name": "stdout"
        }
      ]
    },
    {
      "cell_type": "markdown",
      "metadata": {
        "id": "n80tr6STJx9E"
      },
      "source": [
        "### Problema 1\n"
      ]
    },
    {
      "cell_type": "markdown",
      "metadata": {
        "id": "SZ89Q1rSEmif"
      },
      "source": [
        "Programe una función que calcule la desviación estándar de una lista de números. La desviación estándar de una muestra está dada por \n",
        "\n",
        "$\\sigma=\\sqrt{\\frac{1}{N} \\sum_{i=1}^{N}\\left(x_{i}-\\mu\\right)^{2}}$\n",
        "\n",
        "Con N el tamaño de la muestra, $\\mu$ la media aritmética y $x_i$ la muestra $i$ de los datos."
      ]
    },
    {
      "cell_type": "code",
      "metadata": {
        "id": "ecJ6LuPXjQTC"
      },
      "source": [
        "import numpy as np\n",
        "lista_ejemplo = [2,2,2,1,3,4,5]"
      ],
      "execution_count": null,
      "outputs": []
    },
    {
      "cell_type": "markdown",
      "metadata": {
        "id": "4R1_aCS1jlxt"
      },
      "source": [
        "#### Solución"
      ]
    },
    {
      "cell_type": "code",
      "metadata": {
        "id": "yUdBMum_JVF6",
        "colab": {
          "base_uri": "https://localhost:8080/",
          "height": 34
        },
        "outputId": "00bce568-7d9a-4aca-d25d-10dd4c91cef9"
      },
      "source": [
        "import numpy as np\n",
        "\n",
        "#para realizar operaciones avanzadas, hay que importar una libreria llamada \"numpy\"\n",
        "\n",
        "def desviacion_estandar(lista):\n",
        "  promedio  = sum(lista)/len(lista)\n",
        "  desviacion = 0\n",
        "  for elem in lista:\n",
        "    desviacion = desviacion + (elem - promedio)**2\n",
        "\n",
        "  desviacion = np.sqrt((1/len(lista))*desviacion) \n",
        "  #para utilizar una funcion de la libreria importada se escribe np.formula()\n",
        "  return desviacion \n",
        "\n",
        "desviacion = desviacion_estandar(lista_ejemplo)\n",
        "print('Desviación estándar: {}'.format(desviacion))"
      ],
      "execution_count": null,
      "outputs": [
        {
          "output_type": "stream",
          "text": [
            "Desviación estándar: 1.2777531299998799\n"
          ],
          "name": "stdout"
        }
      ]
    },
    {
      "cell_type": "markdown",
      "metadata": {
        "id": "2_K6K_Vventl"
      },
      "source": [
        "## Numpy y listas"
      ]
    },
    {
      "cell_type": "markdown",
      "metadata": {
        "id": "RpaMEZL7h656"
      },
      "source": [
        "Para el manejo de datos utilizaremos una biblioteca llamada Numpy. Esta tiene muchas funciones de soporte que son útiles para análisis de datos y Machine Learning.\n"
      ]
    },
    {
      "cell_type": "markdown",
      "metadata": {
        "id": "KISVk6bq2gXx"
      },
      "source": [
        "Para crear un arreglo usamos np.array() y si queremos insertar elementos usamos np.append(arreglo,elemento)."
      ]
    },
    {
      "cell_type": "code",
      "metadata": {
        "id": "4Dxk4q-jzEy4",
        "colab": {
          "base_uri": "https://localhost:8080/",
          "height": 187
        },
        "outputId": "6e428995-8e77-4b16-fe0b-9da46bb81d56"
      },
      "source": [
        "import numpy as np  # Make numpy available using np.\n",
        "# Create a numpy array, and append an element\n",
        "a = np.array([\"Hello\", \"World\"])\n",
        "a = np.append(a, \"!\")\n",
        "print(\"Current array: {}\".format(a))\n",
        "print(\"Printing each element\")\n",
        "for i in a:\n",
        "  print(i)\n",
        "\n",
        "print(\"\\nPrinting each element and their index\")\n",
        "for i,e in enumerate(a):\n",
        "  print(\"Index: {}, was: {}\".format(i, e))"
      ],
      "execution_count": null,
      "outputs": [
        {
          "output_type": "stream",
          "text": [
            "Current array: ['Hello' 'World' '!']\n",
            "Printing each element\n",
            "Hello\n",
            "World\n",
            "!\n",
            "\n",
            "Printing each element and their index\n",
            "Index: 0, was: Hello\n",
            "Index: 1, was: World\n",
            "Index: 2, was: !\n"
          ],
          "name": "stdout"
        }
      ]
    },
    {
      "cell_type": "markdown",
      "metadata": {
        "id": "ubIY3GCa28Cz"
      },
      "source": [
        "Existen funciones integradas que operan funciones sobre los arreglos, como calcular el máximos, promedio, entre otras."
      ]
    },
    {
      "cell_type": "code",
      "metadata": {
        "id": "RTa8_9G3LV03",
        "colab": {
          "base_uri": "https://localhost:8080/",
          "height": 102
        },
        "outputId": "3a23cc86-a5d2-4c69-9754-6f4d5aa03aaf"
      },
      "source": [
        "print(\"\\nShowing some basic math on arrays\")\n",
        "b = np.array([0,1,4,3,2])\n",
        "print(\"Max: {}\".format(np.max(b)))\n",
        "print(\"Average: {}\".format(np.average(b)))\n",
        "print(\"Max index: {}\".format(np.argmax(b)))"
      ],
      "execution_count": null,
      "outputs": [
        {
          "output_type": "stream",
          "text": [
            "\n",
            "Showing some basic math on arrays\n",
            "Max: 4\n",
            "Average: 2.0\n",
            "Max index: 2\n"
          ],
          "name": "stdout"
        }
      ]
    },
    {
      "cell_type": "markdown",
      "metadata": {
        "id": "zLjFXKcb3Tyl"
      },
      "source": [
        "También se pueden hacer operaciones entre arreglos como multplicación matricial o multiplicación punto a punto."
      ]
    },
    {
      "cell_type": "code",
      "metadata": {
        "id": "V6ilVhi9LXn_",
        "colab": {
          "base_uri": "https://localhost:8080/",
          "height": 357
        },
        "outputId": "48ea5b79-f78f-4e96-d9e7-769fde18a93b"
      },
      "source": [
        "print(\"Numpy matricial operations \\n\")\n",
        "A = np.array([[1, 2, 3],[4, 5, 6]])\n",
        "B = np.array([[1, 2],[3, 4],[5, 6]])\n",
        "C = np.array([[3, 3, 3],[3, 3, 3]])\n",
        "\n",
        "print(A)\n",
        "print('Size {}'.format(A.shape))\n",
        "print(B)\n",
        "print('Size {}'.format(B.shape))\n",
        "print(C)\n",
        "print('Size {}'.format(C.shape))\n",
        "print(\"\\n Matrix multiplication\")\n",
        "print(np.dot(A,B))\n",
        "print(\"\\n Element-wise matrix_multiplication (Must be same size)\")\n",
        "print(np.multiply(A,C))"
      ],
      "execution_count": null,
      "outputs": [
        {
          "output_type": "stream",
          "text": [
            "Numpy matricial operations \n",
            "\n",
            "[[1 2 3]\n",
            " [4 5 6]]\n",
            "Size (2, 3)\n",
            "[[1 2]\n",
            " [3 4]\n",
            " [5 6]]\n",
            "Size (3, 2)\n",
            "[[3 3 3]\n",
            " [3 3 3]]\n",
            "Size (2, 3)\n",
            "\n",
            " Matrix multiplication\n",
            "[[22 28]\n",
            " [49 64]]\n",
            "\n",
            " Element-wise matrix_multiplication (Must be same size)\n",
            "[[ 3  6  9]\n",
            " [12 15 18]]\n"
          ],
          "name": "stdout"
        }
      ]
    },
    {
      "cell_type": "markdown",
      "metadata": {
        "id": "v0jc4oSc0V64"
      },
      "source": [
        "## Visualización de funciones y datos con Numpy"
      ]
    },
    {
      "cell_type": "markdown",
      "metadata": {
        "id": "Jxypb-yBiXPa"
      },
      "source": [
        "Python también permite visualizar funciones y datos en distintos formatos de gráficos. Para ello usamos la librería Numpy para crear funciones y la librería pyplot de matplotlib para graficar."
      ]
    },
    {
      "cell_type": "code",
      "metadata": {
        "id": "cahv90-uHoL6"
      },
      "source": [
        "from matplotlib import pyplot as plt\n",
        "import numpy as np"
      ],
      "execution_count": null,
      "outputs": []
    },
    {
      "cell_type": "code",
      "metadata": {
        "id": "kNE7WetXHhBb",
        "colab": {
          "base_uri": "https://localhost:8080/",
          "height": 336
        },
        "outputId": "6c07e3b6-fedd-4e94-a57a-0335046e3c9d"
      },
      "source": [
        "x = np.linspace(0, 4*np.pi,100) # Creamos un vector equi-espaciado con nuestros valores del eje \"x\"\n",
        "y = np.cos(x) # aplicamos una función a nuestros valores \"x\" para obtener los valores de \"y\"\n",
        "\n",
        "plt.figure(figsize=(7,5)) # Creamos una figura, podemos ajustar  su tamaño con figsize \n",
        "plt.plot(x, y,'-')  # el comando plot crea un gráfico de líneas a partir de los puntos x e y\n",
        "plt.title(\"Sample Visualization\") # Agregamos un título\n",
        "plt.show() # Mostramos la figura"
      ],
      "execution_count": null,
      "outputs": [
        {
          "output_type": "display_data",
          "data": {
            "image/png": "[encoded data removed]",
            "text/plain": [
              "<Figure size 504x360 with 1 Axes>"
            ]
          },
          "metadata": {
            "tags": [],
            "needs_background": "light"
          }
        }
      ]
    },
    {
      "cell_type": "markdown",
      "metadata": {
        "id": "ODrIwbaqJ31N"
      },
      "source": [
        "### Problema 2"
      ]
    },
    {
      "cell_type": "markdown",
      "metadata": {
        "id": "oQdLMzctJOez"
      },
      "source": [
        "Grafique las funciones $cos(t)$, $e^{0.1t}$ y la multiplicación de ambas en un mismo gráfico entre 0 y 10$\\pi$. Utilice leyendas para diferenciar una función de la otras . \n",
        "\n",
        "*   Opcional (Difícil): Para la multiplicación de ambas ubique (en el mismo gráfico) máximos y mínimos locales de la función (para esto último puede ser útil la función diff de numpy)\n",
        "\n",
        "\n",
        "\n"
      ]
    },
    {
      "cell_type": "markdown",
      "metadata": {
        "id": "Tjkyc0em0e3S"
      },
      "source": [
        "#### Solución"
      ]
    },
    {
      "cell_type": "code",
      "metadata": {
        "id": "NFc27ROXL-Uw",
        "colab": {
          "base_uri": "https://localhost:8080/",
          "height": 336
        },
        "outputId": "d1f7096d-d71e-4422-ce40-98a70a7af884"
      },
      "source": [
        "import numpy as np\n",
        "from matplotlib import pyplot as plt\n",
        "\n",
        "t = np.linspace(0, 10*np.pi,500)\n",
        "cos = np.cos(t)\n",
        "exp = np.exp(0.1*t)\n",
        "mult = np.multiply(cos,exp) #MULTIPLICACION \n",
        "\n",
        "local_min_max = np.diff(np.sign(np.diff(mult))).nonzero()[0] \n",
        "\n",
        "plt.figure(figsize = (7,5)) #LARGO Y ANCHO \n",
        "plt.plot(t, cos, '-',label  = 'Coseno') \n",
        "plt.plot(t, exp, label = 'Exponencial' )\n",
        "plt.plot(t, mult, label = 'Multiplicación')\n",
        "plt.scatter(t[local_min_max],mult[local_min_max],color='r',label = 'Local min-max' )\n",
        "\n",
        "plt.title(\"Funciones en Python\")\n",
        "plt.legend(loc='upper left')\n",
        "plt.show()"
      ],
      "execution_count": null,
      "outputs": [
        {
          "output_type": "display_data",
          "data": {
            "image/png": "[encoded data removed]",
            "text/plain": [
              "<Figure size 504x360 with 1 Axes>"
            ]
          },
          "metadata": {
            "tags": [],
            "needs_background": "light"
          }
        }
      ]
    },
    {
      "cell_type": "markdown",
      "metadata": {
        "id": "AXdhvxsDnB5M"
      },
      "source": [
        "## Enlaces útiles"
      ]
    },
    {
      "cell_type": "markdown",
      "metadata": {
        "id": "uamp_oimnF5i"
      },
      "source": [
        "Existen muchas páginas y cursos introductorios a python en la web. Una página completa la puedes encontrar [acá](https://www.w3schools.com/python/). También pueden revisar cursos introductorios en [Coursera](https://www.coursera.org/), aprovechando la iniciativa Campus COVID-19 en la que está incluida la UC."
      ]
    },
    {
      "cell_type": "markdown",
      "metadata": {
        "id": "GbHXL18xgYrv"
      },
      "source": [
        "## Problema 3"
      ]
    },
    {
      "cell_type": "markdown",
      "metadata": {
        "id": "QBttYf_jgcSe"
      },
      "source": [
        "Programe una función que retorne un tren de pulsos cuadrados de período y ancho ajustables como el de la figura."
      ]
    },
    {
      "cell_type": "markdown",
      "metadata": {
        "id": "3JAUqOT-1Rh_"
      },
      "source": [
        "\n",
        "![alt text](https://drive.google.com/uc?export=view&id=1nqXds5_i6L3DHbEc1ke6JcvFNx6SihDy)"
      ]
    },
    {
      "cell_type": "markdown",
      "metadata": {
        "id": "fVQQ-4QIlopa"
      },
      "source": [
        "### Solución"
      ]
    },
    {
      "cell_type": "code",
      "metadata": {
        "id": "tGC-nebPg89c",
        "colab": {
          "base_uri": "https://localhost:8080/",
          "height": 336
        },
        "outputId": "ec94e4de-7cd2-4ef4-f31c-4894688e727f"
      },
      "source": [
        "import numpy as np\n",
        "from matplotlib import pyplot as plt\n",
        "\n",
        "def tren_de_pulsos(N,P,D):\n",
        "    # N Muestras (tiempo)\n",
        "    # P Largo período\n",
        "    # D ancho de pulso\n",
        "    Tren = (np.arange(N) % P) < D\n",
        "    return Tren\n",
        "    \n",
        "N = 200 # Muestras (tiempo)\n",
        "P = 20  # Largo período\n",
        "D = 10   # ancho de pulso\n",
        "t = np.arange(N)\n",
        "\n",
        "plt.figure(figsize=(7,5))\n",
        "plt.plot(t, tren_de_pulsos(N,P,D), '-')\n",
        "plt.title(\"Tren de pulsos\")\n",
        "plt.show()\n"
      ],
      "execution_count": null,
      "outputs": [
        {
          "output_type": "display_data",
          "data": {
            "image/png": "[encoded data removed]",
            "text/plain": [
              "<Figure size 504x360 with 1 Axes>"
            ]
          },
          "metadata": {
            "tags": [],
            "needs_background": "light"
          }
        }
      ]
    }
  ]
}